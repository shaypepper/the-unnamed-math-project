{
 "cells": [
  {
   "cell_type": "markdown",
   "metadata": {},
   "source": [
    "# Magic 5-gon ring\n",
    "Consider the following \"magic\" 3-gon ring, filled with the numbers 1 to 6, and each line adding to nine.\n",
    "\n",
    "<img src=\"./p068_1.gif\"/>\n",
    "\n",
    "Working clockwise, and starting from the group of three with the numerically lowest external node (4,3,2 in this example), each solution can be described uniquely. For example, the above solution can be described by the set: 4,3,2; 6,2,1; 5,1,3.\n",
    "\n",
    "It is possible to complete the ring with four different totals: 9, 10, 11, and 12. There are eight solutions in total.\n",
    "\n",
    "| Total\t| Solution Set    |\n",
    "|:----- |---------------:|\n",
    "|9\t|4,2,3; 5,3,1; 6,1,2\n",
    "|9\t|4,3,2; 6,2,1; 5,1,3\n",
    "|10\t|2,3,5; 4,5,1; 6,1,3\n",
    "|10\t|2,5,3; 6,3,1; 4,1,5\n",
    "|11\t|1,4,6; 3,6,2; 5,2,4\n",
    "|11\t|1,6,4; 5,4,2; 3,2,6\n",
    "|12\t|1,5,6; 2,6,4; 3,4,5\n",
    "|12\t|1,6,5; 3,5,4; 2,4,6\n",
    "By concatenating each group it is possible to form 9-digit strings; the maximum string for a 3-gon ring is 432621513.\n",
    "\n",
    "Using the numbers 1 to 10, and depending on arrangements, it is possible to form 16- and 17-digit strings. What is the maximum 16-digit string for a \"magic\" 5-gon ring?\n",
    "<img src=\"./p068_2.gif\"/>"
   ]
  },
  {
   "cell_type": "markdown",
   "metadata": {},
   "source": [
    "## Observations before we start\n",
    "\n",
    "* For any ring, five digits should show up once each, and five digits should show up twice each. \n",
    "* Since only one number is two digits (10), and we are looking for a ring whose string respresentation is 16 characters instead of 17, 10 must show up only once, and be on the outside. \n",
    "* Once we have a starting vector, $<a,b,c>$, there are $2m$ options for the next vector with $m$ being the number of vectors including $c$ that add up to the same linesum. To find these, we will look for triples that include $c$ and then show the two permutations of that triple that have $c$ as the second component. Example: $<x,c,y>$ and $<y,c,x>$"
   ]
  },
  {
   "cell_type": "markdown",
   "metadata": {},
   "source": [
    "## 1. Look at what we're working with\n",
    "\n",
    "For each possible triple,  map the triple into a dictionary based on its sum. That way, we can start with a sum, and immediately have a set of triples on hand with the same sum. I've printed the sums that have five or more triples since those will be the only ones that can create a ring "
   ]
  },
  {
   "cell_type": "code",
   "execution_count": 42,
   "metadata": {},
   "outputs": [
    {
     "name": "stdout",
     "output_type": "stream",
     "text": [
      "11 : 5,4,2 6,3,2 6,4,1 7,3,1 8,2,1\n",
      "12 : 5,4,3 6,4,2 6,5,1 7,3,2 7,4,1 8,3,1 9,2,1\n",
      "13 : 6,4,3 6,5,2 7,4,2 7,5,1 8,3,2 8,4,1 9,3,1 10,2,1\n",
      "14 : 6,5,3 7,4,3 7,5,2 7,6,1 8,4,2 8,5,1 9,3,2 9,4,1 10,3,1\n",
      "15 : 6,5,4 7,5,3 7,6,2 8,4,3 8,5,2 8,6,1 9,4,2 9,5,1 10,3,2 10,4,1\n",
      "16 : 7,5,4 7,6,3 8,5,3 8,6,2 8,7,1 9,4,3 9,5,2 9,6,1 10,4,2 10,5,1\n",
      "17 : 7,6,4 8,5,4 8,6,3 8,7,2 9,5,3 9,6,2 9,7,1 10,4,3 10,5,2 10,6,1\n",
      "18 : 7,6,5 8,6,4 8,7,3 9,5,4 9,6,3 9,7,2 9,8,1 10,5,3 10,6,2 10,7,1\n",
      "19 : 8,6,5 8,7,4 9,6,4 9,7,3 9,8,2 10,5,4 10,6,3 10,7,2 10,8,1\n",
      "20 : 8,7,5 9,6,5 9,7,4 9,8,3 10,6,4 10,7,3 10,8,2 10,9,1\n",
      "21 : 8,7,6 9,7,5 9,8,4 10,6,5 10,7,4 10,8,3 10,9,2\n",
      "22 : 9,7,6 9,8,5 10,7,5 10,8,4 10,9,3\n"
     ]
    }
   ],
   "source": [
    "sumTriples = {}\n",
    "for i in range(1,11):\n",
    "    for j in range(1,i):\n",
    "        for k in range(1,j):\n",
    "            if not i+j+k in sumTriples:\n",
    "                sumTriples[i+j+k] = []\n",
    "            sumTriples[i+j+k].append((i,j,k))\n",
    "\n",
    "for s, t in sumTriples.items():\n",
    "    if len(t) >= 5:\n",
    "        print(s,':',(' '.join([','.join(str(x) for x in a) for a in t])))"
   ]
  },
  {
   "cell_type": "markdown",
   "metadata": {},
   "source": [
    "## 2. Eliminate sums that are missing digits.\n",
    "As you can see below, only the sums 13-20 have triples that include every digit. We won't need to look at the others"
   ]
  },
  {
   "cell_type": "code",
   "execution_count": 74,
   "metadata": {},
   "outputs": [
    {
     "name": "stdout",
     "output_type": "stream",
     "text": [
      "6 {1: 1, 2: 1, 3: 1, 4: 0, 5: 0, 6: 0, 7: 0, 8: 0, 9: 0, 10: 0}\n",
      "7 {1: 1, 2: 1, 3: 0, 4: 1, 5: 0, 6: 0, 7: 0, 8: 0, 9: 0, 10: 0}\n",
      "8 {1: 2, 2: 1, 3: 1, 4: 1, 5: 1, 6: 0, 7: 0, 8: 0, 9: 0, 10: 0}\n",
      "9 {1: 2, 2: 2, 3: 2, 4: 1, 5: 1, 6: 1, 7: 0, 8: 0, 9: 0, 10: 0}\n",
      "10 {1: 3, 2: 2, 3: 2, 4: 1, 5: 2, 6: 1, 7: 1, 8: 0, 9: 0, 10: 0}\n",
      "11 {1: 3, 2: 3, 3: 2, 4: 2, 5: 1, 6: 2, 7: 1, 8: 1, 9: 0, 10: 0}\n",
      "12 {1: 4, 2: 3, 3: 3, 4: 3, 5: 2, 6: 2, 7: 2, 8: 1, 9: 1, 10: 0}\n",
      "13 {1: 4, 2: 4, 3: 3, 4: 3, 5: 2, 6: 2, 7: 2, 8: 2, 9: 1, 10: 1}\n",
      "14 {1: 4, 2: 3, 3: 4, 4: 3, 5: 3, 6: 2, 7: 3, 8: 2, 9: 2, 10: 1}\n",
      "15 {1: 3, 2: 4, 3: 3, 4: 4, 5: 4, 6: 3, 7: 2, 8: 3, 9: 2, 10: 2}\n",
      "16 {1: 3, 2: 3, 3: 3, 4: 3, 5: 4, 6: 3, 7: 3, 8: 3, 9: 3, 10: 2}\n",
      "17 {1: 2, 2: 3, 3: 3, 4: 3, 5: 3, 6: 4, 7: 3, 8: 3, 9: 3, 10: 3}\n",
      "18 {1: 2, 2: 2, 3: 3, 4: 2, 5: 3, 6: 4, 7: 4, 8: 3, 9: 4, 10: 3}\n",
      "19 {1: 1, 2: 2, 3: 2, 4: 3, 5: 2, 6: 3, 7: 3, 8: 4, 9: 3, 10: 4}\n",
      "20 {1: 1, 2: 1, 3: 2, 4: 2, 5: 2, 6: 2, 7: 3, 8: 3, 9: 4, 10: 4}\n",
      "21 {1: 0, 2: 1, 3: 1, 4: 2, 5: 2, 6: 2, 7: 3, 8: 3, 9: 3, 10: 4}\n",
      "22 {1: 0, 2: 0, 3: 1, 4: 1, 5: 2, 6: 1, 7: 2, 8: 2, 9: 3, 10: 3}\n",
      "23 {1: 0, 2: 0, 3: 0, 4: 1, 5: 1, 6: 2, 7: 1, 8: 2, 9: 2, 10: 3}\n",
      "24 {1: 0, 2: 0, 3: 0, 4: 0, 5: 1, 6: 1, 7: 1, 8: 2, 9: 2, 10: 2}\n",
      "25 {1: 0, 2: 0, 3: 0, 4: 0, 5: 0, 6: 1, 7: 1, 8: 1, 9: 1, 10: 2}\n",
      "26 {1: 0, 2: 0, 3: 0, 4: 0, 5: 0, 6: 0, 7: 1, 8: 0, 9: 1, 10: 1}\n",
      "27 {1: 0, 2: 0, 3: 0, 4: 0, 5: 0, 6: 0, 7: 0, 8: 1, 9: 1, 10: 1}\n"
     ]
    }
   ],
   "source": [
    "def digitTallyFromList(tripleList, digit):\n",
    "    return sum(1 for triple in tripleList if digit in triple)\n",
    "\n",
    "digitTallies = {\n",
    "    linesum: { i: digitTallyFromList(triples, i) for i in range(1,11) } \n",
    "    for linesum, triples in sumTriples.items()\n",
    "}\n",
    "\n",
    "for x, y in digitTallies.items():\n",
    "    print(x, y)"
   ]
  },
  {
   "cell_type": "markdown",
   "metadata": {},
   "source": [
    "## 3. Organize triples by the digits they contain \n",
    "To create a new vetor in a ring we will need to be able to quickly access the other triples that include the last digit of the previous vector and that also have the same linesum\n",
    "\n",
    "Example: `tripleByDigit[16][7] = {(7, 6, 3), (8, 7, 1), (7, 5, 4)}`\n"
   ]
  },
  {
   "cell_type": "code",
   "execution_count": 75,
   "metadata": {
    "scrolled": true
   },
   "outputs": [],
   "source": [
    "def filterTriplesByDigit(tripleList, digit):\n",
    "    return set(triple for triple in tripleList if digit in triple)\n",
    "\n",
    "triplesByDigit = {\n",
    "    linesum: { i: filterTriplesByDigit(triples, i) for i in range(1,11) } \n",
    "    for linesum, triples in sumTriples.items()\n",
    "}"
   ]
  },
  {
   "cell_type": "code",
   "execution_count": 102,
   "metadata": {},
   "outputs": [],
   "source": [
    "def isCompleteRing(ring):\n",
    "    if ring[0][1] != ring[-1][-1]:\n",
    "        return False\n",
    "    digitTally = {i: digitTallyFromList(ring, i) for i in range(1,11)}\n",
    "    for tally in digitTally.values():\n",
    "        if not tally or tally > 2:\n",
    "            return False\n",
    "        \n",
    "    return True\n",
    "\n",
    "def rotateRingAndPrint(ring):\n",
    "    m = min([triple[0] for triple in ring])\n",
    "    while ring[0][0] != m:\n",
    "        ring = ring[1:] + ring[:1]\n",
    "    print('*******', ring)\n",
    "\n",
    "def getRingStarters(lineSum):\n",
    "    vectorList = []\n",
    "    for ten, x, y in triplesByDigit[lineSum][10]:\n",
    "        vectorList += [(10, x, y), (10, y, x)]\n",
    "    return vectorList\n",
    "\n",
    "def getNextVectorOptions(middleDigit, remaining):\n",
    "    vectorList = []\n",
    "    for triple in remaining:\n",
    "        [x,y] = filter(lambda x: x != middleDigit, triple)\n",
    "        vectorList += [(x, middleDigit, y), (y, middleDigit, x)]\n",
    "    return vectorList\n",
    "\n",
    "def generateRing(lineSum=9, ring=[], remaining=set()):\n",
    "    if not remaining and ring:\n",
    "        return\n",
    "    elif len(ring) == 5:\n",
    "        return rotateRingAndPrint(ring) if isCompleteRing(ring) else ''\n",
    "    \n",
    "    if not ring:\n",
    "        remaining = set(sumTriples[lineSum])\n",
    "        vectorList = getRingStarters(lineSum)\n",
    "\n",
    "    else:\n",
    "        vectorList = getNextVectorOptions(\n",
    "            ring[-1][2], \n",
    "            filterTriplesByDigit(remaining, ring[-1][2])\n",
    "        )\n",
    "\n",
    "    for vector in vectorList:\n",
    "        generateRing(\n",
    "            ring = ring + [vector], \n",
    "            remaining = remaining - set([tuple(sorted(vector))]), \n",
    "            lineSum = lineSum\n",
    "        )"
   ]
  },
  {
   "cell_type": "code",
   "execution_count": 106,
   "metadata": {},
   "outputs": [
    {
     "name": "stdout",
     "output_type": "stream",
     "text": [
      "******* [(6, 5, 3), (10, 3, 1), (9, 1, 4), (8, 4, 2), (7, 2, 5)]\n",
      "******* [(6, 3, 5), (7, 5, 2), (8, 2, 4), (9, 4, 1), (10, 1, 3)]\n",
      "******* [(2, 9, 5), (10, 5, 1), (8, 1, 7), (6, 7, 3), (4, 3, 9)]\n",
      "******* [(2, 5, 9), (4, 9, 3), (6, 3, 7), (8, 7, 1), (10, 1, 5)]\n"
     ]
    }
   ],
   "source": [
    "for x in range(13,21):\n",
    "    generateRing(x)"
   ]
  },
  {
   "cell_type": "code",
   "execution_count": null,
   "metadata": {
    "collapsed": true
   },
   "outputs": [],
   "source": []
  }
 ],
 "metadata": {
  "kernelspec": {
   "display_name": "Python 3",
   "language": "python",
   "name": "python3"
  },
  "language_info": {
   "codemirror_mode": {
    "name": "ipython",
    "version": 3
   },
   "file_extension": ".py",
   "mimetype": "text/x-python",
   "name": "python",
   "nbconvert_exporter": "python",
   "pygments_lexer": "ipython3",
   "version": "3.6.1"
  }
 },
 "nbformat": 4,
 "nbformat_minor": 2
}

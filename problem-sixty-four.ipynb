{
 "cells": [
  {
   "cell_type": "markdown",
   "metadata": {},
   "source": [
    "# Odd Period Square Roots\n",
    "\n",
    "All square roots are periodic when written as continued fractions and can be written in the form:\n",
    "\n",
    "### $\\sqrt{N} = a_0 + \\frac{1}{a_1 +\\frac{1}{a_2 + \\frac{1}{a_3 + ...}} } $\n",
    "\n",
    "\n",
    "### For $n = 23$\n",
    "\n",
    "### $\\sqrt{23} = 4 + \\frac{1}{1 +\\frac{1}{3 + \\frac{1}{1 + ...}} } $\n",
    "\n",
    "$a_0 = 4,\\ r_0 = \\frac{1}{\\sqrt{23}-4} = \\frac{\\sqrt{23}+4}{7} = 1 + \\frac{\\sqrt{23}-3}{7}$\n",
    "\n",
    "$a_1 = 1,\\ r_1 = \\frac{7}{\\sqrt{23}-3} = \\frac{7(\\sqrt{23}+3)}{14} = 3 + \\frac{\\sqrt{23}-3}{2}$\n",
    "\n",
    "$a_2 = 3,\\ r_2 = \\frac{2}{\\sqrt{23}-3} = \\frac{2(\\sqrt{23}+3)}{14} = 1 + \\frac{\\sqrt{23}-4}{7}$\n",
    "\n",
    "$a_3 = 1,\\ r_3 = \\frac{7}{\\sqrt{23}-4} = \\frac{7(\\sqrt{23}+4)}{7} = 8 + \\sqrt{23}-4$\n",
    "\n",
    "$a_4 = 8,\\ r_4 = \\frac{1}{\\sqrt{23}-4} = \\frac{\\sqrt{23}+4}{7} = 1 + \\frac{\\sqrt{23}-3}{7}$\n",
    "\n",
    "$a_5 = 1,\\ r_5 = \\frac{7}{\\sqrt{23}-3} = \\frac{7(\\sqrt{23}+3)}{14} = 3 + \\frac{\\sqrt{23}-3}{2}$\n",
    "\n",
    "$a_6 = 3,\\ r_6 = \\frac{2}{\\sqrt{23}-3} = \\frac{2(\\sqrt{23}+3)}{14} = 1 + \\frac{\\sqrt{23}-4}{7}$\n",
    "\n",
    "$a_7 = 1,\\ r_7 = \\frac{7}{\\sqrt{23}-4} = \\frac{7(\\sqrt{23}+4)}{7} = 8 + \\sqrt{23}-4$"
   ]
  },
  {
   "cell_type": "markdown",
   "metadata": {},
   "source": [
    "It can be seen that the sequence is repeating. For conciseness, we use the notation √23 = [4;(1,3,1,8)], to indicate that the block (1,3,1,8) repeats indefinitely.\n",
    "\n",
    "The first ten continued fraction representations of (irrational) square roots are:\n",
    "\n",
    "√2=[1;(2)], period=1\n",
    "\n",
    "√3=[1;(1,2)], period=2\n",
    "\n",
    "√5=[2;(4)], period=1\n",
    "\n",
    "√6=[2;(2,4)], period=2\n",
    "\n",
    "√7=[2;(1,1,1,4)], period=4\n",
    "\n",
    "√8=[2;(1,4)], period=2\n",
    "\n",
    "√10=[3;(6)], period=1\n",
    "\n",
    "√11=[3;(3,6)], period=2\n",
    "\n",
    "√12= [3;(2,6)], period=2\n",
    "\n",
    "√13=[3;(1,1,1,1,6)], period=5\n",
    "\n",
    "\n",
    "Exactly four continued fractions, for N ≤ 13, have an odd period.\n",
    "\n",
    "How many continued fractions for N ≤ 10000 have an odd period?"
   ]
  },
  {
   "cell_type": "markdown",
   "metadata": {},
   "source": [
    "### Helper functions\n",
    "$f_n(x) = n - x^2$\n",
    "\n",
    "$g_n(x,y) = max\\{\\ a\\ \\| \\ a\\ (\\textrm{mod}\\ y) \\equiv -x\\ (\\textrm{mod}\\ y)\\ and\\ a^2 < n \\}$"
   ]
  },
  {
   "cell_type": "code",
   "execution_count": 52,
   "metadata": {},
   "outputs": [],
   "source": [
    "f = lambda n,x: n - x**2\n",
    "def g(n, x=1, y=1):\n",
    "    while x**2 < n and (x+y)**2 < n:\n",
    "        x += y\n",
    "    return x"
   ]
  },
  {
   "cell_type": "markdown",
   "metadata": {},
   "source": [
    "### For any $n$ or $k > 0$\n",
    "\n",
    "$a_0 = g_n(1, 1)$\n",
    "\n",
    "$b_0 = 1$\n",
    "\n",
    "$c_0 = a_0$\n",
    "\n",
    "$r_{k} = \\frac{b_k}{\\sqrt{n}-c_k} = \n",
    "\\frac{b_k(\\sqrt{n}+c_k)}{n-c_k^2} = \n",
    "\\frac{\\sqrt{n}+c_k}{f_n(c_k)/b_k} =\n",
    "\\frac{c_k + g_n(c_k,\\ f_n(c_k) / b_k)}{f_n(c_k)/b_k} +\n",
    "\\frac{\\sqrt{n}-g_n(c_k,\\ f_n(c_k)/b_k)}{f_n(c_k)/b_k} \n",
    "$\n",
    "\n",
    "If we define $b_k$ and $c_k$ as follows:\n",
    "\n",
    "$b_{k+1} = \\frac{f_n(c_k)}{b_k}$\n",
    "\n",
    "$c_{k+1} = g_n(c_k,\\ b_{k+1})$\n",
    "\n",
    "$a_{k+1} = \\frac{c_{k} + c_{k+1}}{b_k+1}$\n",
    "\n",
    "Then, we can simplify our $r_{k+1}$ like so:\n",
    "$r_{k+1} = \\frac{c_k + c_{k+1}}{b_{k+1}} +\n",
    "\\frac{\\sqrt{n}-c_{k+1}}{b_{k+1}} = a_{k+2} + r_{k+2}$"
   ]
  },
  {
   "cell_type": "code",
   "execution_count": 95,
   "metadata": {
    "collapsed": true
   },
   "outputs": [],
   "source": [
    "def nextRemainderComponents(n, b, c):\n",
    "    B = f(n, c) / b\n",
    "    C = g(n, -c, B)\n",
    "    A = (c + C)/B\n",
    "    return (A,B,C)"
   ]
  },
  {
   "cell_type": "code",
   "execution_count": 96,
   "metadata": {
    "collapsed": true
   },
   "outputs": [],
   "source": [
    "def calculatePeriod(n):\n",
    "    a0 = g(n, 1, 1)\n",
    "    b = 1\n",
    "    c = a0\n",
    "    remainderComponents = nextRemainderComponents(n, b, c)\n",
    "    period = []\n",
    "    while remainderComponents not in period:\n",
    "        period.append(remainderComponents)\n",
    "        (a, b, c) = remainderComponents\n",
    "        remainderComponents = nextRemainderComponents(n, b, c)\n",
    "    return [a0, [x[0] for x in period]]    "
   ]
  },
  {
   "cell_type": "code",
   "execution_count": 100,
   "metadata": {},
   "outputs": [
    {
     "name": "stdout",
     "output_type": "stream",
     "text": [
      "1322\n"
     ]
    }
   ],
   "source": [
    "z = 0\n",
    "for n in range(10000):\n",
    "    if not ((n**0.5) % 1):\n",
    "        continue\n",
    "    a, period = calculatePeriod(n)\n",
    "    if len(period) % 2:\n",
    "        z += 1\n",
    "print(z)"
   ]
  },
  {
   "cell_type": "code",
   "execution_count": null,
   "metadata": {
    "collapsed": true
   },
   "outputs": [],
   "source": []
  }
 ],
 "metadata": {
  "kernelspec": {
   "display_name": "Python 3",
   "language": "python",
   "name": "python3"
  },
  "language_info": {
   "codemirror_mode": {
    "name": "ipython",
    "version": 3
   },
   "file_extension": ".py",
   "mimetype": "text/x-python",
   "name": "python",
   "nbconvert_exporter": "python",
   "pygments_lexer": "ipython3",
   "version": "3.6.1"
  }
 },
 "nbformat": 4,
 "nbformat_minor": 2
}

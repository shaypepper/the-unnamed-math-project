{
 "cells": [
  {
   "cell_type": "markdown",
   "metadata": {},
   "source": [
    "## Arithmetic expressions\n",
    "By using each of the digits from the set, {1, 2, 3, 4}, exactly once, and making use of the four arithmetic operations (+, −, *, /) and brackets/parentheses, it is possible to form different positive integer targets.\n",
    "\n",
    "For example,\n",
    "\n",
    "$8 = (4 * (1 + 3)) / 2$\n",
    "\n",
    "$14 = 4 * (3 + 1 / 2)$\n",
    "\n",
    "$19 = 4 * (2 + 3) - 1$\n",
    "\n",
    "$36 = 3 * 4 * (2 + 1)$\n",
    "\n",
    "Note that concatenations of the digits, like 12 + 34, are not allowed.\n",
    "\n",
    "Using the set, {1, 2, 3, 4}, it is possible to obtain thirty-one different target numbers of which 36 is the maximum, and each of the numbers 1 to 28 can be obtained before encountering the first non-expressible number.\n",
    "\n",
    "Find the set of four distinct digits, a < b < c < d, for which the longest set of consecutive positive integers, 1 to n, can be obtained, giving your answer as a string: abcd."
   ]
  },
  {
   "cell_type": "markdown",
   "metadata": {},
   "source": [
    "## Notes and observations\n",
    "+ Each combination has exactly three operations\n",
    "+ With groupings, you have 1, 2, 3, and 4 value posibilities\n",
    "\n"
   ]
  },
  {
   "cell_type": "code",
   "execution_count": 6,
   "metadata": {
    "collapsed": true
   },
   "outputs": [],
   "source": [
    "def perms(arr):\n",
    "    if len(arr) == 1:\n",
    "        return [arr] \n",
    "    return [[x] + y for i,x in enumerate(arr) for y in perms(arr[:i] + arr[i+1:])]\n",
    "\n",
    "def combos(arr, n, replacement=False):\n",
    "    if n == 0:\n",
    "        return [[]]\n",
    "    newCombos = []\n",
    "    for j,x in enumerate(arr):\n",
    "        newArr = arr[::] if replacement else arr[j+1:]\n",
    "        newCombos.extend([[x] + c for c in combos(newArr, n-1, replacement)])\n",
    "    return newCombos\n",
    "\n",
    "digitCombos = combos([1,2,3,4,5,6,7,8,9], 4, False)\n",
    "\n",
    "operations = [\n",
    "    lambda a,b: a+b,\n",
    "    lambda a,b: a*b,\n",
    "    lambda a,b: a-b,\n",
    "    lambda a,b: a/b if b else 999\n",
    "]\n",
    "operationCombos = combos(operations, 3, True)\n",
    "\n",
    "def operate(digits, ops):\n",
    "    [a,b,c,d] = digits\n",
    "    [O,P,Q] = ops\n",
    "    \n",
    "    isPositiveInteger = lambda n: (not n % 1) and n > 0\n",
    "    \n",
    "    return set(filter(isPositiveInteger,[\n",
    "        float(Q(d,P(O(a,b),c))),\n",
    "        float(Q(P(O(a,b),c),d)),\n",
    "        float(Q(d,P(c,O(a,b)))),\n",
    "        float(Q(P(c,O(a,b)),d)),\n",
    "    ]))\n"
   ]
  },
  {
   "cell_type": "code",
   "execution_count": 7,
   "metadata": {
    "scrolled": true
   },
   "outputs": [
    {
     "data": {
      "text/plain": [
       "(51, [1, 2, 5, 8])"
      ]
     },
     "execution_count": 7,
     "metadata": {},
     "output_type": "execute_result"
    }
   ],
   "source": [
    "maxTotal, maxSet = 1, [0,1,2,3]\n",
    "def countValues(digits):\n",
    "    global maxTotal, maxSet\n",
    "    finalValues = set()\n",
    "    for digitSet in perms(digits):\n",
    "        for operationSet in operationCombos:\n",
    "            finalValues |= operate(digitSet, operationSet)\n",
    "    i = 1\n",
    "    while i+1 in finalValues:\n",
    "        i+=1\n",
    "    return i, digits\n",
    "\n",
    "max([countValues(x) for x in digitCombos])"
   ]
  },
  {
   "cell_type": "code",
   "execution_count": null,
   "metadata": {
    "collapsed": true
   },
   "outputs": [],
   "source": []
  }
 ],
 "metadata": {
  "kernelspec": {
   "display_name": "Python 3",
   "language": "python",
   "name": "python3"
  },
  "language_info": {
   "codemirror_mode": {
    "name": "ipython",
    "version": 3
   },
   "file_extension": ".py",
   "mimetype": "text/x-python",
   "name": "python",
   "nbconvert_exporter": "python",
   "pygments_lexer": "ipython3",
   "version": "3.6.1"
  }
 },
 "nbformat": 4,
 "nbformat_minor": 2
}

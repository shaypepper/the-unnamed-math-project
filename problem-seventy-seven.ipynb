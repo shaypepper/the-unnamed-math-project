{
 "cells": [
  {
   "cell_type": "code",
   "execution_count": 97,
   "metadata": {},
   "outputs": [],
   "source": [
    "from primesUnder10_8 import primes\n",
    "import math\n",
    "\n",
    "def getSmallerPrimes(n, passedInPrimes=primes):\n",
    "    primeList = []\n",
    "    for p in passedInPrimes:\n",
    "        if p >= n: \n",
    "            break\n",
    "        primeList.insert(0,p)    \n",
    "\n",
    "    return primeList\n",
    "    \n",
    "    \n",
    "def primePartitions(n, smallerPrimes=[]):\n",
    "    if not smallerPrimes:\n",
    "        smallerPrimes = getSmallerPrimes(n)\n",
    "\n",
    "    newPartitions = []\n",
    "    for i, p in enumerate(smallerPrimes):\n",
    "        if p > n:\n",
    "            continue\n",
    "        if p == n:\n",
    "            newPartitions.append([p])\n",
    "            continue\n",
    "        x = sumOfPrimes(n-p, smallerPrimes[i:])\n",
    "        newPartitions.extend([p] + y for y in x)   \n",
    "    return newPartitions\n",
    "\n",
    "def numberOfPrimePartitions(n, smallerPrimes=[]):\n",
    "    if not n:\n",
    "        return 1\n",
    "    if not smallerPrimes:\n",
    "        smallerPrimes = getSmallerPrimes(n)\n",
    "    \n",
    "    newPartitions = 0\n",
    "    for i, p in enumerate(smallerPrimes):\n",
    "        if p <= n:\n",
    "            newPartitions += numberOfPrimePartitions(n-p, smallerPrimes[i:])\n",
    "    return newPartitions"
   ]
  },
  {
   "cell_type": "code",
   "execution_count": 98,
   "metadata": {},
   "outputs": [
    {
     "name": "stdout",
     "output_type": "stream",
     "text": [
      "71 5006\n"
     ]
    }
   ],
   "source": [
    "i = 3\n",
    "x = numberOfPrimePartitions(i)\n",
    "while x < 5000:\n",
    "    i += 1\n",
    "    x = numberOfPrimePartitions(i)\n",
    "print(i, x)\n",
    "    "
   ]
  }
 ],
 "metadata": {
  "kernelspec": {
   "display_name": "Python 3",
   "language": "python",
   "name": "python3"
  },
  "language_info": {
   "codemirror_mode": {
    "name": "ipython",
    "version": 3
   },
   "file_extension": ".py",
   "mimetype": "text/x-python",
   "name": "python",
   "nbconvert_exporter": "python",
   "pygments_lexer": "ipython3",
   "version": "3.6.1"
  }
 },
 "nbformat": 4,
 "nbformat_minor": 2
}

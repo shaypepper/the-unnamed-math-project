{
 "cells": [
  {
   "cell_type": "markdown",
   "metadata": {},
   "source": [
    "# Cube Digit Pairs\n",
    "\n",
    "Each of the six faces on a cube has a different digit (0 to 9) written on it; the same is done to a second cube. By placing the two cubes side-by-side in different positions we can form a variety of 2-digit numbers.\n",
    "\n",
    "For example, the square number 64 could be formed:\n",
    "\n",
    "<img src=\"p090.gif\">\n",
    "\n",
    "\n",
    "In fact, by carefully choosing the digits on both cubes it is possible to display all of the square numbers below one-hundred: 01, 04, 09, 16, 25, 36, 49, 64, and 81.\n",
    "\n",
    "For example, one way this can be achieved is by placing {0, 5, 6, 7, 8, 9} on one cube and {1, 2, 3, 4, 8, 9} on the other cube.\n",
    "\n",
    "However, for this problem we shall allow the 6 or 9 to be turned upside-down so that an arrangement like {0, 5, 6, 7, 8, 9} and {1, 2, 3, 4, 6, 7} allows for all nine square numbers to be displayed; otherwise it would be impossible to obtain 09.\n",
    "\n",
    "In determining a distinct arrangement we are interested in the digits on each cube, not the order.\n",
    "\n",
    "{1, 2, 3, 4, 5, 6} is equivalent to {3, 6, 4, 1, 2, 5}\n",
    "{1, 2, 3, 4, 5, 6} is distinct from {1, 2, 3, 4, 5, 9}\n",
    "\n",
    "But because we are allowing 6 and 9 to be reversed, the two distinct sets in the last example both represent the extended set {1, 2, 3, 4, 5, 6, 9} for the purpose of forming 2-digit numbers.\n",
    "\n",
    "How many distinct arrangements of the two cubes allow for all of the square numbers to be displayed?\n",
    "\n",
    "[This problem can be found here](https://projecteuler.net/problem=90)"
   ]
  },
  {
   "cell_type": "code",
   "execution_count": 5,
   "metadata": {
    "collapsed": true
   },
   "outputs": [],
   "source": [
    "squares = [\n",
    "    '01',\n",
    "    '04',\n",
    "    '09',\n",
    "    '16',\n",
    "    '25',\n",
    "    '36',\n",
    "    '49',\n",
    "    '64',\n",
    "    '81',\n",
    "]"
   ]
  },
  {
   "cell_type": "markdown",
   "metadata": {},
   "source": [
    "First, I want to get all possible dice, and then all possible dice pairs. "
   ]
  },
  {
   "cell_type": "code",
   "execution_count": 2,
   "metadata": {},
   "outputs": [],
   "source": [
    "def combos(arr, n):\n",
    "    if n == 0:\n",
    "        return ['']\n",
    "    comboList = []\n",
    "    for j in range(len(arr)):\n",
    "        x = combos(arr[j+1:], n-1)\n",
    "        for c in x:\n",
    "            comboList.append(arr[j] + c)\n",
    "    comboList.sort()\n",
    "    return comboList\n",
    "\n",
    "dice = tuple(combos('0123456789', 6))\n",
    "dicePairs = [tuple([a,b]) for a in dice for b in dice if b >= a]"
   ]
  },
  {
   "cell_type": "markdown",
   "metadata": {},
   "source": [
    "Then, for each square, I'll determine which dice pairs from our dicePairs list are able to represent that square. Dice pairs are removed from the dicePairs list as soon as they encourter a square that they cannot represent. This prunes the list so that subsequent squares have a smaller number of dicePairs to check. "
   ]
  },
  {
   "cell_type": "code",
   "execution_count": 3,
   "metadata": {},
   "outputs": [],
   "source": [
    "def digitOnDie(digit, die): \n",
    "    return ((digit in die) or\n",
    "            (digit == '6' and '9' in die) or\n",
    "            (digit == '9' and '6' in die))\n",
    "\n",
    "def goodPair(sq, dice):\n",
    "    return ( digitOnDie(sq[0], dice[0]) and digitOnDie(sq[1], dice[1])\n",
    "          or digitOnDie(sq[0], dice[1]) and digitOnDie(sq[1], dice[0]) )\n",
    "\n",
    "def dicePairsForSquare(square, dicePairs):\n",
    "    return tuple([dice for dice in dicePairs if goodPair(square, dice)])\n",
    "\n",
    "for square in squares:\n",
    "    dicePairs = dicePairsForSquare(square, dicePairs)\n",
    "    "
   ]
  },
  {
   "cell_type": "code",
   "execution_count": 4,
   "metadata": {},
   "outputs": [
    {
     "data": {
      "text/plain": [
       "1217"
      ]
     },
     "execution_count": 4,
     "metadata": {},
     "output_type": "execute_result"
    }
   ],
   "source": [
    "len(dicePairs)"
   ]
  }
 ],
 "metadata": {
  "kernelspec": {
   "display_name": "Python 3",
   "language": "python",
   "name": "python3"
  },
  "language_info": {
   "codemirror_mode": {
    "name": "ipython",
    "version": 3
   },
   "file_extension": ".py",
   "mimetype": "text/x-python",
   "name": "python",
   "nbconvert_exporter": "python",
   "pygments_lexer": "ipython3",
   "version": "3.6.1"
  }
 },
 "nbformat": 4,
 "nbformat_minor": 2
}

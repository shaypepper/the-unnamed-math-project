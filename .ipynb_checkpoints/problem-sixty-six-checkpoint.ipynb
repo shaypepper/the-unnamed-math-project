{
 "cells": [
  {
   "cell_type": "markdown",
   "metadata": {},
   "source": [
    "# Diophantine equation"
   ]
  },
  {
   "cell_type": "markdown",
   "metadata": {},
   "source": [
    "Consider quadratic Diophantine equations of the form:\n",
    "\n",
    "$ x^{2}-Dy^{2} = 1$\n",
    "\n",
    "For example, when D=13, the minimal solution in x is 6492 – 13×1802 = 1.\n",
    "\n",
    "It can be assumed that there are no solutions in positive integers when D is square.\n",
    "\n",
    "By finding minimal solutions in x for D = {2, 3, 5, 6, 7}, we obtain the following:\n",
    "\n",
    "$3^{2} - 2 \\times 2^{2} = 1$\n",
    "\n",
    "$2^{2} - 3 \\times 1^{2} = 1$\n",
    "\n",
    "$9^{2} - 5 \\times 4^{2} = 1$\n",
    "\n",
    "$5^{2} - 6 \\times 2^{2} = 1$\n",
    "\n",
    "$8^{2} - 7 \\times 3^{2} = 1$\n",
    "\n",
    "Hence, by considering minimal solutions in x for D ≤ 7, the largest x is obtained when D=5.\n",
    "\n",
    "Find the value of D ≤ 1000 in minimal solutions of x for which the largest value of x is obtained."
   ]
  },
  {
   "cell_type": "markdown",
   "metadata": {},
   "source": [
    "# Observations\n",
    "### x and y are relatively prime. \n",
    "For x=ka, y=kb, w/ k an positive integer:\n",
    "\n",
    "$1 = x^{2}-Dy^{2}= k^{2}(a^{2}-Db^{2})$\n",
    "\n",
    "Since $1 \\neq kc$ for any positive integers k,c except 1, x and y must be relatively prime. \n"
   ]
  },
  {
   "cell_type": "markdown",
   "metadata": {},
   "source": [
    "### x and D are relatively prime. \n",
    "For $x=ka, D=kb,$ w/ $k$ a positive integer:\n",
    "\n",
    "$1 = x^{2}-Dy^{2}= k(ka^{2}-by^{2})$\n",
    "\n",
    "$1 \\neq kc$ for any positive integers k,c except 1. Therefore D and X must be relatively prime. \n"
   ]
  },
  {
   "cell_type": "markdown",
   "metadata": {},
   "source": [
    "### Non-unique x's are possible\n",
    "Let there be some integers x, $D=p_{1}\\cdots p_{n}$, $y=q_{1}\\cdots q_{n}$ with each $p_{n}$ representing a prime factor of D and each $q_{n}$ representing a prime factor of y. If some $p_{n}, p_{m}, q_{s}$ such that $p_{n} = p_{m}$, $m \\neq n$, and $p_{n} \\neq p_{m}$.\n",
    "\n",
    "Then, you could rewrite the equation like this:\n",
    "\n",
    "$$1 = x^{2}-p_{1}\\cdots p_{n}\\cdot q_{1}\\cdots q_{n}^{2}$$\n",
    "\n",
    "$$1 = x^{2}-\\frac{q_{s}p_{1}\\cdots p_{n}}{p_{n}p_{m}} \\cdot \\big({\\frac{p_{n}q_{1}\\cdots q_{n}}{q_{s}}}\\big)^{2}$$\n",
    "\n",
    "\n",
    "\n"
   ]
  },
  {
   "cell_type": "markdown",
   "metadata": {},
   "source": [
    "## Research\n",
    "\n",
    "After banging my head against the wall, I finally did some research that led me to the name of this gorgeous equation: [Pell's Equation](https://en.wikipedia.org/wiki/Pell%27s_equation).\n",
    "\n",
    "Through this research I saw that the most elegant solution uses [continued fraction expansion](https://en.wikipedia.org/wiki/Methods_of_computing_square_roots#Continued_fraction_expansion) for approximating the square root of our D.\n",
    "\n",
    "That seemsed reasonable enough considering $\\sqrt{D} = \\frac{\\sqrt{x^2 - 1}}{y}$\n",
    "\n",
    "Luckily, I recently wrote a series of functions to generate the fraction expansion periods of any square root. You can see it explained in more detail [here](https://github.com/shaypepper/the-unnamed-math-project/blob/master/problem-sixty-four.ipynb)"
   ]
  },
  {
   "cell_type": "code",
   "execution_count": 1,
   "metadata": {
    "collapsed": true
   },
   "outputs": [],
   "source": [
    "f = lambda n,x: n - x**2\n",
    "\n",
    "def g(n, x=1, y=1):\n",
    "    while x**2 < n and (x+y)**2 < n:\n",
    "        x += y\n",
    "    return x\n",
    "\n",
    "def nextRemainderComponents(n, b, c):\n",
    "    B = f(n, c) / b\n",
    "    C = g(n, -c, B)\n",
    "    A = (c + C)/B\n",
    "    return (A,B,C)\n",
    "\n",
    "def calculatePeriod(n):\n",
    "    a0 = g(n, 1, 1)\n",
    "    b = 1\n",
    "    c = a0\n",
    "    remainderComponents = nextRemainderComponents(n, b, c)\n",
    "    period = []\n",
    "    while remainderComponents not in period:\n",
    "        period.append(remainderComponents)\n",
    "        (a, b, c) = remainderComponents\n",
    "        remainderComponents = nextRemainderComponents(n, b, c)\n",
    "    return a0, [int(x[0]) for x in period]"
   ]
  },
  {
   "cell_type": "code",
   "execution_count": 10,
   "metadata": {
    "collapsed": true
   },
   "outputs": [],
   "source": [
    "periods = { n: calculatePeriod(n) for n in range(1,1001) if n**0.5 % 1 }"
   ]
  },
  {
   "cell_type": "code",
   "execution_count": 11,
   "metadata": {
    "collapsed": true
   },
   "outputs": [],
   "source": [
    "def sqrtFractionApprox(n, k):\n",
    "    a0, period = periods[n]\n",
    "    \n",
    "    getCurrentA = lambda k: period[(k-1) % len(period)] if k else a0\n",
    "    \n",
    "    numerator, denominator = getCurrentA(k), 1\n",
    "    while k > 0:\n",
    "        k-=1\n",
    "        numerator, denominator = denominator, numerator\n",
    "        a = getCurrentA(k)\n",
    "        numerator = denominator*a + numerator\n",
    "    return numerator, denominator\n"
   ]
  },
  {
   "cell_type": "markdown",
   "metadata": {},
   "source": [
    "### $\\sqrt{N} = a_0 + \\frac{1}{a_1 +\\frac{1}{a_2 + \\frac{1}{a_3 + ...}} } $\n",
    "\n",
    "### $\\sqrt{23} = 4 + \\frac{1}{1 +\\frac{1}{3 + \\frac{1}{1 + ...}} } $\n",
    "\n",
    "So if we did things right, \n",
    "\n",
    "`sqrtFractionApprox(23, 0) = 4, 1`\n",
    "\n",
    "`sqrtFractionApprox(23, 1) = 5, 1`\n",
    "\n",
    "`sqrtFractionApprox(23, 2) = 19, 4`\n"
   ]
  },
  {
   "cell_type": "code",
   "execution_count": 4,
   "metadata": {},
   "outputs": [
    {
     "name": "stdout",
     "output_type": "stream",
     "text": [
      "(4, 1)\n",
      "(5, 1)\n",
      "(19, 4)\n"
     ]
    }
   ],
   "source": [
    "print(sqrtFractionApprox(23, 0))\n",
    "print(sqrtFractionApprox(23, 1))\n",
    "print(sqrtFractionApprox(23, 2))"
   ]
  },
  {
   "cell_type": "code",
   "execution_count": 20,
   "metadata": {},
   "outputs": [
    {
     "name": "stdout",
     "output_type": "stream",
     "text": [
      "2 3\n",
      "5 9\n",
      "10 19\n",
      "13 649\n",
      "29 9801\n",
      "46 24335\n",
      "53 66249\n",
      "61 1766319049\n",
      "109 158070671986249\n",
      "181 2469645423824185801\n",
      "277 159150073798980475849\n",
      "397 838721786045180184649\n",
      "409 25052977273092427986049\n",
      "421 3879474045914926879468217167061449\n",
      "541 3707453360023867028800645599667005001\n",
      "661 16421658242965910275055840472270471049\n"
     ]
    }
   ],
   "source": [
    "xlist = []\n",
    "squares = [ i**2 for i in range(1000)]\n",
    "D = 1\n",
    "MaxX = 1 \n",
    "for d in range(2,1001):\n",
    "    if d in squares:\n",
    "        continue\n",
    "    x, y, k = 1, 1, 0\n",
    "    while True:\n",
    "        if x**2 - d*(y**2) == 1:\n",
    "            break\n",
    "        x, y = sqrtFractionApprox(d,k)\n",
    "        k += 1\n",
    "    if x > MaxX:\n",
    "        MaxX = x\n",
    "        D = d\n",
    "        print(D, MaxX)"
   ]
  },
  {
   "cell_type": "markdown",
   "metadata": {},
   "source": [
    "\n",
    "$ x^{2}-Dy^{2} = 1 $\n"
   ]
  },
  {
   "cell_type": "code",
   "execution_count": 16,
   "metadata": {},
   "outputs": [
    {
     "data": {
      "text/plain": [
       "True"
      ]
     },
     "execution_count": 16,
     "metadata": {},
     "output_type": "execute_result"
    }
   ],
   "source": [
    "4 in squares"
   ]
  },
  {
   "cell_type": "code",
   "execution_count": null,
   "metadata": {
    "collapsed": true
   },
   "outputs": [],
   "source": []
  }
 ],
 "metadata": {
  "kernelspec": {
   "display_name": "Python 3",
   "language": "python",
   "name": "python3"
  },
  "language_info": {
   "codemirror_mode": {
    "name": "ipython",
    "version": 3
   },
   "file_extension": ".py",
   "mimetype": "text/x-python",
   "name": "python",
   "nbconvert_exporter": "python",
   "pygments_lexer": "ipython3",
   "version": "3.6.1"
  }
 },
 "nbformat": 4,
 "nbformat_minor": 2
}
